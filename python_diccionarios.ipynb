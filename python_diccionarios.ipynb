{
 "cells": [
  {
   "cell_type": "code",
   "execution_count": 1,
   "metadata": {},
   "outputs": [
    {
     "name": "stdout",
     "output_type": "stream",
     "text": [
      "{'a': 1, 'b': 'hola', 'c': True, 'd': 5.8}\n"
     ]
    }
   ],
   "source": [
    "#Manejo de Diccionarios\n",
    "diccionario={\"a\":1,\"b\":\"hola\",\"c\":True,\"d\":5.8}\n",
    "\n",
    "#Imprimo el diccionario completo\n",
    "print(diccionario)"
   ]
  },
  {
   "cell_type": "code",
   "execution_count": 2,
   "metadata": {},
   "outputs": [
    {
     "name": "stdout",
     "output_type": "stream",
     "text": [
      "1\n"
     ]
    }
   ],
   "source": [
    "#Imprimo el valor específico de una (clave) posición existente\n",
    "\n",
    "#Opción A\n",
    "dato=diccionario['a']\n",
    "print(dato)"
   ]
  },
  {
   "cell_type": "code",
   "execution_count": 3,
   "metadata": {},
   "outputs": [
    {
     "name": "stdout",
     "output_type": "stream",
     "text": [
      "False\n"
     ]
    }
   ],
   "source": [
    "#Opción B\n",
    "#El 1er parámetro es la posición (clave), 2do parámtero el mensaje si no encuentra\n",
    "dato=diccionario.get('x',False)\n",
    "print(dato)"
   ]
  },
  {
   "cell_type": "code",
   "execution_count": 4,
   "metadata": {},
   "outputs": [
    {
     "name": "stdout",
     "output_type": "stream",
     "text": [
      "{'a': 1, 'b': 'como', 'c': True, 'd': 5.8}\n"
     ]
    }
   ],
   "source": [
    "#Actualizo un valor de una posición (clave) existente\n",
    "diccionario['b']=\"como\"\n",
    "print(diccionario)"
   ]
  },
  {
   "cell_type": "code",
   "execution_count": 5,
   "metadata": {},
   "outputs": [
    {
     "name": "stdout",
     "output_type": "stream",
     "text": [
      "{'a': 1, 'b': 'como', 'c': True, 'd': 5.8, 'e': '$'}\n"
     ]
    }
   ],
   "source": [
    "#Creo una nueva posición (clave) y su valor\n",
    "diccionario['e']=\"$\"\n",
    "print(diccionario)"
   ]
  },
  {
   "cell_type": "code",
   "execution_count": null,
   "metadata": {},
   "outputs": [],
   "source": []
  }
 ],
 "metadata": {
  "kernelspec": {
   "display_name": "Python 3",
   "language": "python",
   "name": "python3"
  },
  "language_info": {
   "codemirror_mode": {
    "name": "ipython",
    "version": 3
   },
   "file_extension": ".py",
   "mimetype": "text/x-python",
   "name": "python",
   "nbconvert_exporter": "python",
   "pygments_lexer": "ipython3",
   "version": "3.7.3"
  }
 },
 "nbformat": 4,
 "nbformat_minor": 2
}
